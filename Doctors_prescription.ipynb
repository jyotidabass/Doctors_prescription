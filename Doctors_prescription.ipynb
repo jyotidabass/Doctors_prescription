{
  "nbformat": 4,
  "nbformat_minor": 0,
  "metadata": {
    "colab": {
      "name": "Doctors_prescription.ipynb",
      "provenance": [],
      "authorship_tag": "ABX9TyPlMzGvX5lwJOq2/mr0Irxz",
      "include_colab_link": true
    },
    "kernelspec": {
      "name": "python3",
      "display_name": "Python 3"
    },
    "language_info": {
      "name": "python"
    }
  },
  "cells": [
    {
      "cell_type": "markdown",
      "metadata": {
        "id": "view-in-github",
        "colab_type": "text"
      },
      "source": [
        "<a href=\"https://colab.research.google.com/github/jyotidabass/Doctors_prescription/blob/main/Doctors_prescription.ipynb\" target=\"_parent\"><img src=\"https://colab.research.google.com/assets/colab-badge.svg\" alt=\"Open In Colab\"/></a>"
      ]
    },
    {
      "cell_type": "code",
      "execution_count": 2,
      "metadata": {
        "colab": {
          "base_uri": "https://localhost:8080/"
        },
        "id": "IkKTKbxAWWxw",
        "outputId": "eab1a94b-256e-4184-c122-a0af10e82ce1"
      },
      "outputs": [
        {
          "name": "stdout",
          "output_type": "stream",
          "text": [
            "           ~~~~~~~~ FAITH HOSPITAL ~~~~~~~~            \n",
            "Name : ABC\n",
            "Age : 25\n",
            "Weight : 47\n",
            "Address : Sector 18, gurugram\n",
            "Mobile : 9999999999\n",
            "Sex : Male\n",
            "Illness in Breif : Typhoid\n",
            "Medical History : Fever\n",
            "Describe about treatment and illness : Had fever and vomiting\n",
            "Enter name of Medicines Given : Ibuprufen\n",
            "Enter name of Medicines Given : /\n",
            "Enter name of foods to eat most : Chikoo\n",
            "Enter name of foods to eat most : /\n",
            "Give Special Note : Get well soon\n"
          ]
        },
        {
          "output_type": "execute_result",
          "data": {
            "text/plain": [
              "47"
            ]
          },
          "metadata": {},
          "execution_count": 2
        }
      ],
      "source": [
        "#Prescription form\n",
        "import datetime\n",
        "#*************************** Creating list to use formating ***********************************\n",
        "# info list contains basic details like age, weight, sex ,illness , name etc\n",
        "\n",
        "info_li = []\n",
        "treatment_li = []\n",
        "medicines = []\n",
        "foods_to_eat = []\n",
        "foods_to_avoid = []\n",
        "filename = []\n",
        "\n",
        "print(\"           ~~~~~~~~ FAITH HOSPITAL ~~~~~~~~            \")\n",
        "\n",
        "td = datetime.date.today()\n",
        "\n",
        "name = input(\"Name : \")\n",
        "filename.append(name)           #to use patient name as file name we need to store his name into a list\n",
        "\n",
        "file = open(\"{}.txt\".format(filename[0]),'w') #to create patient name as file name\n",
        "\n",
        "age = input(\"Age : \")\n",
        "weight = input(\"Weight : \")\n",
        "address = input(\"Address : \")\n",
        "phone = input(\"Mobile : \")\n",
        "sex = input(\"Sex : \")\n",
        "illness = input(\"Illness in Breif : \")\n",
        "medical_history = input(\"Medical History : \")\n",
        "\n",
        "treatment_explain = input(\"Describe about treatment and illness : \")\n",
        "treatment_li.append(treatment_explain)\n",
        "\n",
        "info_li.extend((name, age,sex,weight,address,illness,medical_history,phone,td) )\n",
        "\n",
        "while True:\n",
        "    medicine = input(\"Enter name of Medicines Given : \")\n",
        "    if medicine == \"/\":\n",
        "        break\n",
        "    else:\n",
        "        medicines.append(medicine)\n",
        "\n",
        "while True:\n",
        "    foods = input(\"Enter name of foods to eat most : \")\n",
        "    if foods == \"/\":\n",
        "        break\n",
        "    else:\n",
        "        foods_to_eat.append(foods)\n",
        "\n",
        "\n",
        "noteli = []\n",
        "note = input(\"Give Special Note : \")\n",
        "noteli.append(note)\n",
        "\n",
        "#************************** Prescription Format *******************************************\n",
        "\n",
        "file.write((\"                  FAITH HOSPITAL          \\n\"\n",
        "            \"Phone : +91 987655432           Email : faith@hospital.com\\n\"\n",
        "            \"__________________________________________________________\\n\"\n",
        "            \"                   Patient Details             \\n\"\n",
        "            \"       Name : {}      Age : {}     Sex : {}    \\n\"         \n",
        "            \"       Weight : {}        Address : {}\\n\"\n",
        "            \"       Phone : {}          Date : {}\\n\"  \n",
        "            \"       Illness : {}     Medical History : {}\\n\"\n",
        "            \"__________________________________________________________\\n\"\n",
        "            \"About illness : {} \\n\"\n",
        "            \"\\n\"\n",
        "            \"Medicines Given :\\n\"\n",
        "\n",
        "            ).format(info_li[0],info_li[1],info_li[2],info_li[3],info_li[4],info_li[7],info_li[8],info_li[5],info_li[6],treatment_li[0]))\n",
        "\n",
        "\n",
        "for i in range(0,len(medicines)):\n",
        "    file.write((\"- {} \\n\").format(medicines[i]))\n",
        "\n",
        "\n",
        "file.write((  \"\\n\" \"Foods to Eat : \\n\"))\n",
        "\n",
        "\n",
        "for i in range(0,len(foods_to_eat)):\n",
        "    file.write((\"- {} \\n\".format(foods_to_eat[i])))\n",
        "\n",
        "file.write((\"\\n Note : {} \\n\").format(noteli[0]))\n",
        "\n",
        "file.write((\"            ~~~~ Get Well Soon ~~~~            \"))"
      ]
    }
  ]
}